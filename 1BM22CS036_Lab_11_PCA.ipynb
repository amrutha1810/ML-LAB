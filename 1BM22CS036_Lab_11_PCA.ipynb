{
  "nbformat": 4,
  "nbformat_minor": 0,
  "metadata": {
    "colab": {
      "provenance": [],
      "include_colab_link": true
    },
    "kernelspec": {
      "name": "python3",
      "display_name": "Python 3"
    },
    "language_info": {
      "name": "python"
    }
  },
  "cells": [
    {
      "cell_type": "markdown",
      "metadata": {
        "id": "view-in-github",
        "colab_type": "text"
      },
      "source": [
        "<a href=\"https://colab.research.google.com/github/amrutha1810/ML-LAB/blob/main/1BM22CS036_Lab_11_PCA.ipynb\" target=\"_parent\"><img src=\"https://colab.research.google.com/assets/colab-badge.svg\" alt=\"Open In Colab\"/></a>"
      ]
    },
    {
      "cell_type": "code",
      "execution_count": null,
      "metadata": {
        "colab": {
          "base_uri": "https://localhost:8080/"
        },
        "id": "HDml6HLK0OdO",
        "outputId": "ab3e5839-1bc6-433a-a29b-a2d81647e305"
      },
      "outputs": [
        {
          "output_type": "stream",
          "name": "stdout",
          "text": [
            "Accuracy using PCA with 2 components: 0.5694\n"
          ]
        }
      ],
      "source": [
        "import numpy as np\n",
        "from sklearn.datasets import load_digits\n",
        "from sklearn.model_selection import train_test_split\n",
        "from sklearn.preprocessing import StandardScaler\n",
        "from sklearn.decomposition import PCA\n",
        "from sklearn.linear_model import LogisticRegression\n",
        "from sklearn.metrics import accuracy_score\n",
        "\n",
        "# Step 1: Load the digits dataset\n",
        "digits = load_digits()\n",
        "X = digits.data\n",
        "y = digits.target\n",
        "\n",
        "# Step 2: Split data into 80% training and 20% testing\n",
        "X_train, X_test, y_train, y_test = train_test_split(X, y, test_size=0.2, random_state=50)\n",
        "\n",
        "# Step 3: Perform feature scaling\n",
        "scaler = StandardScaler()\n",
        "X_train_scaled = scaler.fit_transform(X_train)\n",
        "X_test_scaled = scaler.transform(X_test)\n",
        "\n",
        "# Step 4: Apply PCA with 2 components\n",
        "pca = PCA(n_components=2)\n",
        "X_train_pca = pca.fit_transform(X_train_scaled)\n",
        "X_test_pca = pca.transform(X_test_scaled)\n",
        "\n",
        "# Step 5: Train logistic regression on PCA-reduced data\n",
        "log_reg = LogisticRegression(max_iter=1000, random_state=42)\n",
        "log_reg.fit(X_train_pca, y_train)\n",
        "\n",
        "# Step 6: Predict and evaluate\n",
        "y_pred = log_reg.predict(X_test_pca)\n",
        "accuracy = accuracy_score(y_test, y_pred)\n",
        "\n",
        "print(f'Accuracy using PCA with 2 components: {accuracy:.4f}')\n"
      ]
    },
    {
      "cell_type": "code",
      "source": [
        "import pandas as pd\n",
        "import numpy as np\n",
        "from sklearn.preprocessing import StandardScaler, LabelEncoder, OneHotEncoder\n",
        "from sklearn.model_selection import train_test_split\n",
        "from sklearn.ensemble import RandomForestClassifier\n",
        "from sklearn.linear_model import LogisticRegression\n",
        "from sklearn.svm import SVC\n",
        "from sklearn.metrics import accuracy_score\n",
        "from sklearn.decomposition import PCA\n",
        "from scipy import stats\n",
        "\n",
        "# Step 1: Load the dataset\n",
        "df = pd.read_csv('heart.csv')\n",
        "\n",
        "# Step 2: Remove outliers using Z-score\n",
        "df_numeric = df.select_dtypes(include=[np.number])\n",
        "z_scores = np.abs(stats.zscore(df_numeric))\n",
        "df_no_outliers = df[(z_scores < 3).all(axis=1)]\n",
        "\n",
        "# Step 3: Convert text columns to numbers\n",
        "df_processed = df_no_outliers.copy()\n",
        "for col in df_processed.select_dtypes(include=['object']).columns:\n",
        "    if df_processed[col].nunique() == 2:\n",
        "        le = LabelEncoder()\n",
        "        df_processed[col] = le.fit_transform(df_processed[col])\n",
        "    else:\n",
        "        df_processed = pd.get_dummies(df_processed, columns=[col])\n",
        "\n",
        "# Separate features and target\n",
        "X = df_processed.drop('HeartDisease', axis=1)\n",
        "y = df_processed['HeartDisease']\n",
        "\n",
        "# Step 4: Apply scaling\n",
        "scaler = StandardScaler()\n",
        "X_scaled = scaler.fit_transform(X)\n",
        "\n",
        "# Step 5: Train models and compare accuracies\n",
        "X_train, X_test, y_train, y_test = train_test_split(X_scaled, y, test_size=0.2, random_state=42)\n",
        "\n",
        "models = {\n",
        "    'Logistic Regression': LogisticRegression(max_iter=1000),\n",
        "    'SVM': SVC(),\n",
        "    'Random Forest': RandomForestClassifier()\n",
        "}\n",
        "\n",
        "print(\"Accuracy without PCA:\")\n",
        "for name, model in models.items():\n",
        "    model.fit(X_train, y_train)\n",
        "    y_pred = model.predict(X_test)\n",
        "    print(f\"{name}: {accuracy_score(y_test, y_pred):.4f}\")\n",
        "\n",
        "# Step 6: Use PCA for dimensionality reduction\n",
        "pca = PCA(n_components=5)  # You can tune this value\n",
        "X_pca = pca.fit_transform(X_scaled)\n",
        "\n",
        "X_train_pca, X_test_pca, y_train, y_test = train_test_split(X_pca, y, test_size=0.2, random_state=42)\n",
        "\n",
        "print(\"\\nAccuracy with PCA:\")\n",
        "for name, model in models.items():\n",
        "    model.fit(X_train_pca, y_train)\n",
        "    y_pred_pca = model.predict(X_test_pca)\n",
        "    print(f\"{name}: {accuracy_score(y_test, y_pred_pca):.4f}\")\n"
      ],
      "metadata": {
        "colab": {
          "base_uri": "https://localhost:8080/"
        },
        "id": "wCL1xy5S0c9I",
        "outputId": "f1f747a4-731f-4c8e-ff95-10f9ea520db4"
      },
      "execution_count": null,
      "outputs": [
        {
          "output_type": "stream",
          "name": "stdout",
          "text": [
            "Accuracy without PCA:\n",
            "Logistic Regression: 0.8833\n",
            "SVM: 0.8778\n",
            "Random Forest: 0.8889\n",
            "\n",
            "Accuracy with PCA:\n",
            "Logistic Regression: 0.8667\n",
            "SVM: 0.8556\n",
            "Random Forest: 0.8722\n"
          ]
        }
      ]
    }
  ]
}
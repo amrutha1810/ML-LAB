{
  "cells": [
    {
      "cell_type": "markdown",
      "metadata": {
        "id": "view-in-github",
        "colab_type": "text"
      },
      "source": [
        "<a href=\"https://colab.research.google.com/github/amrutha1810/ML-LAB/blob/main/1BM22CS036_Lab_8_Random_Forest.ipynb\" target=\"_parent\"><img src=\"https://colab.research.google.com/assets/colab-badge.svg\" alt=\"Open In Colab\"/></a>"
      ]
    },
    {
      "cell_type": "code",
      "execution_count": null,
      "metadata": {
        "colab": {
          "base_uri": "https://localhost:8080/"
        },
        "id": "TenlKsEztXK7",
        "outputId": "d0fcf96e-02d0-4f70-a46e-e7737e80e9c9"
      },
      "outputs": [
        {
          "name": "stdout",
          "output_type": "stream",
          "text": [
            "Accuracy: 0.8659217877094972\n",
            "Confusion Matrix:\n",
            "[[ 26   0  17]\n",
            " [  0  12   5]\n",
            " [  2   0 117]]\n"
          ]
        }
      ],
      "source": [
        "import pandas as pd\n",
        "from sklearn.model_selection import train_test_split\n",
        "from sklearn.ensemble import RandomForestClassifier\n",
        "from sklearn.metrics import accuracy_score, confusion_matrix\n",
        "from sklearn import preprocessing\n",
        "\n",
        "df = pd.read_csv('train.csv')\n",
        "\n",
        "\n",
        "X = df.iloc[:, :-1]\n",
        "y = df.iloc[:, -1]\n",
        "\n",
        "\n",
        "for column in X.columns:\n",
        "    if X[column].dtype == 'object':\n",
        "      le = preprocessing.LabelEncoder()\n",
        "      X[column] = le.fit_transform(X[column])\n",
        "\n",
        "\n",
        "if y.dtype == 'object':\n",
        "  le = preprocessing.LabelEncoder()\n",
        "  y = le.fit_transform(y)\n",
        "\n",
        "X_train, X_test, y_train, y_test = train_test_split(X, y, test_size=0.2, random_state=42)\n",
        "\n",
        "rf_classifier = RandomForestClassifier(random_state=42)\n",
        "rf_classifier.fit(X_train, y_train)\n",
        "\n",
        "y_pred = rf_classifier.predict(X_test)\n",
        "\n",
        "accuracy = accuracy_score(y_test, y_pred)\n",
        "conf_matrix = confusion_matrix(y_test, y_pred)\n",
        "\n",
        "print(f\"Accuracy: {accuracy}\")\n",
        "print(f\"Confusion Matrix:\\n{conf_matrix}\")\n"
      ]
    },
    {
      "cell_type": "code",
      "execution_count": null,
      "metadata": {
        "colab": {
          "base_uri": "https://localhost:8080/"
        },
        "id": "tpxfq3HMt0Q8",
        "outputId": "df9ec770-6fdd-499b-89f5-9ba6474dc0a8"
      },
      "outputs": [
        {
          "name": "stdout",
          "output_type": "stream",
          "text": [
            "Accuracy with default n_estimators: 1.0\n",
            "Best accuracy: 1.0 with n_estimators = 100\n"
          ]
        }
      ],
      "source": [
        "import pandas as pd\n",
        "from sklearn.model_selection import train_test_split\n",
        "from sklearn.ensemble import RandomForestClassifier\n",
        "from sklearn.metrics import accuracy_score, confusion_matrix\n",
        "from sklearn import preprocessing\n",
        "\n",
        "df = pd.read_csv('iris.csv')\n",
        "\n",
        "X = df.iloc[:, :-1]\n",
        "y = df.iloc[:, -1]\n",
        "\n",
        "for column in X.columns:\n",
        "    if X[column].dtype == 'object':\n",
        "      le = preprocessing.LabelEncoder()\n",
        "      X[column] = le.fit_transform(X[column])\n",
        "\n",
        "if y.dtype == 'object':\n",
        "  le = preprocessing.LabelEncoder()\n",
        "  y = le.fit_transform(y)\n",
        "\n",
        "X_train, X_test, y_train, y_test = train_test_split(X, y, test_size=0.2, random_state=42)\n",
        "\n",
        "rf_classifier_default = RandomForestClassifier(random_state=42)\n",
        "rf_classifier_default.fit(X_train, y_train)\n",
        "\n",
        "y_pred_default = rf_classifier_default.predict(X_test)\n",
        "accuracy_default = accuracy_score(y_test, y_pred_default)\n",
        "print(f\"Accuracy with default n_estimators: {accuracy_default}\")\n",
        "\n",
        "best_accuracy = 0\n",
        "best_n_estimators = 0\n",
        "for n_estimators in range(1, 101):\n",
        "    rf_classifier = RandomForestClassifier(n_estimators=n_estimators, random_state=42)\n",
        "    rf_classifier.fit(X_train, y_train)\n",
        "    y_pred = rf_classifier.predict(X_test)\n",
        "    accuracy = accuracy_score(y_test, y_pred)\n",
        "    if accuracy >= best_accuracy:\n",
        "        best_accuracy = accuracy\n",
        "        best_n_estimators = n_estimators\n",
        "\n",
        "print(f\"Best accuracy: {best_accuracy} with n_estimators = {best_n_estimators}\")"
      ]
    },
    {
      "cell_type": "code",
      "execution_count": null,
      "metadata": {
        "id": "JzKNffxJuUw0"
      },
      "outputs": [],
      "source": []
    }
  ],
  "metadata": {
    "colab": {
      "provenance": [],
      "include_colab_link": true
    },
    "kernelspec": {
      "display_name": "Python 3",
      "name": "python3"
    },
    "language_info": {
      "name": "python"
    }
  },
  "nbformat": 4,
  "nbformat_minor": 0
}